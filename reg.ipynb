{
 "cells": [
  {
   "cell_type": "code",
   "execution_count": 2,
   "metadata": {},
   "outputs": [
    {
     "name": "stdout",
     "output_type": "stream",
     "text": [
      "Requirement already satisfied: tensorflow in /opt/conda/lib/python2.7/site-packages\n",
      "Collecting tensorflow-serving-api\n",
      "  Downloading tensorflow_serving_api-1.3.0-py2-none-any.whl\n",
      "Collecting flask\n",
      "  Downloading Flask-0.12.2-py2.py3-none-any.whl (83kB)\n",
      "\u001b[K    100% |████████████████████████████████| 92kB 2.8MB/s ta 0:00:011\n",
      "\u001b[?25hCollecting waitress\n",
      "  Downloading waitress-1.1.0-py2.py3-none-any.whl (114kB)\n",
      "\u001b[K    100% |████████████████████████████████| 122kB 5.8MB/s eta 0:00:01\n",
      "\u001b[?25hRequirement already satisfied: backports.weakref==1.0rc1 in /opt/conda/lib/python2.7/site-packages (from tensorflow)\n",
      "Requirement already satisfied: werkzeug>=0.11.10 in /opt/conda/lib/python2.7/site-packages (from tensorflow)\n",
      "Requirement already satisfied: html5lib==0.9999999 in /opt/conda/lib/python2.7/site-packages (from tensorflow)\n",
      "Requirement already satisfied: markdown>=2.6.8 in /opt/conda/lib/python2.7/site-packages (from tensorflow)\n",
      "Requirement already satisfied: six>=1.10.0 in /opt/conda/lib/python2.7/site-packages (from tensorflow)\n",
      "Requirement already satisfied: wheel in /opt/conda/lib/python2.7/site-packages (from tensorflow)\n",
      "Requirement already satisfied: numpy>=1.11.0 in /opt/conda/lib/python2.7/site-packages (from tensorflow)\n",
      "Requirement already satisfied: mock>=2.0.0 in /opt/conda/lib/python2.7/site-packages (from tensorflow)\n",
      "Requirement already satisfied: bleach==1.5.0 in /opt/conda/lib/python2.7/site-packages (from tensorflow)\n",
      "Requirement already satisfied: protobuf>=3.2.0 in /opt/conda/lib/python2.7/site-packages (from tensorflow)\n",
      "Collecting grpcio>=1.0 (from tensorflow-serving-api)\n",
      "  Downloading grpcio-1.7.0-cp27-cp27mu-manylinux1_x86_64.whl (5.7MB)\n",
      "\u001b[K    100% |████████████████████████████████| 5.7MB 223kB/s eta 0:00:01\n",
      "\u001b[?25hCollecting itsdangerous>=0.21 (from flask)\n",
      "  Downloading itsdangerous-0.24.tar.gz (46kB)\n",
      "\u001b[K    100% |████████████████████████████████| 51kB 8.3MB/s eta 0:00:01\n",
      "\u001b[?25hRequirement already satisfied: Jinja2>=2.4 in /opt/conda/lib/python2.7/site-packages (from flask)\n",
      "Collecting click>=2.0 (from flask)\n",
      "  Downloading click-6.7-py2.py3-none-any.whl (71kB)\n",
      "\u001b[K    100% |████████████████████████████████| 71kB 7.1MB/s eta 0:00:01\n",
      "\u001b[?25hRequirement already satisfied: pbr>=0.11 in /opt/conda/lib/python2.7/site-packages (from mock>=2.0.0->tensorflow)\n",
      "Requirement already satisfied: funcsigs>=1 in /opt/conda/lib/python2.7/site-packages (from mock>=2.0.0->tensorflow)\n",
      "Requirement already satisfied: setuptools in /opt/conda/lib/python2.7/site-packages/setuptools-27.2.0-py2.7.egg (from protobuf>=3.2.0->tensorflow)\n",
      "Requirement already satisfied: enum34>=1.0.4 in /opt/conda/lib/python2.7/site-packages (from grpcio>=1.0->tensorflow-serving-api)\n",
      "Collecting futures>=2.2.0 (from grpcio>=1.0->tensorflow-serving-api)\n",
      "  Downloading futures-3.1.1-py2-none-any.whl\n",
      "Requirement already satisfied: MarkupSafe>=0.23 in /opt/conda/lib/python2.7/site-packages (from Jinja2>=2.4->flask)\n",
      "Building wheels for collected packages: itsdangerous\n",
      "  Running setup.py bdist_wheel for itsdangerous ... \u001b[?25ldone\n",
      "\u001b[?25h  Stored in directory: /home/nbuser/.cache/pip/wheels/fc/a8/66/24d655233c757e178d45dea2de22a04c6d92766abfb741129a\n",
      "Successfully built itsdangerous\n",
      "Installing collected packages: futures, grpcio, tensorflow-serving-api, itsdangerous, click, flask, waitress\n",
      "Successfully installed click-6.7 flask-0.12.2 futures-3.1.1 grpcio-1.7.0 itsdangerous-0.24 tensorflow-serving-api-1.3.0 waitress-1.1.0\n"
     ]
    }
   ],
   "source": [
    "!pip install tensorflow tensorflow-serving-api flask waitress"
   ]
  },
  {
   "cell_type": "code",
   "execution_count": 2,
   "metadata": {},
   "outputs": [],
   "source": [
    "import numpy as np\n",
    "import tensorflow as tf\n",
    "import tensorflow.contrib.lookup\n",
    "from tensorflow.examples.tutorials.mnist import input_data\n",
    "import cPickle as pickle\n",
    "import urllib\n",
    "import json\n",
    "import numpy as np\n",
    "from waitress import serve\n",
    "from grpc.beta import implementations\n",
    "import tensorflow as tf\n",
    "from tensorflow_serving.apis import predict_pb2\n",
    "from tensorflow_serving.apis import prediction_service_pb2\n",
    "from google.protobuf.json_format import MessageToJson"
   ]
  },
  {
   "cell_type": "code",
   "execution_count": 3,
   "metadata": {},
   "outputs": [
    {
     "name": "stdout",
     "output_type": "stream",
     "text": [
      "Extracting /tmp/data/train-images-idx3-ubyte.gz\n",
      "Extracting /tmp/data/train-labels-idx1-ubyte.gz\n",
      "Extracting /tmp/data/t10k-images-idx3-ubyte.gz\n",
      "Extracting /tmp/data/t10k-labels-idx1-ubyte.gz\n"
     ]
    }
   ],
   "source": [
    "mnist = input_data.read_data_sets(\"/tmp/data/\", one_hot=True)\n",
    "export_dir = \"/tmp/regression/1\"\n",
    "\n",
    "tf.reset_default_graph()\n",
    "sess = tf.InteractiveSession()"
   ]
  },
  {
   "cell_type": "code",
   "execution_count": 4,
   "metadata": {},
   "outputs": [],
   "source": [
    "serialized_tf_example = tf.placeholder(tf.string, name='tf_example')\n",
    "feature_configs = {'x': tf.FixedLenFeature(shape=[784], dtype=tf.float32),}\n",
    "tf_example = tf.parse_example(serialized_tf_example, feature_configs)\n",
    "\n",
    "x = tf.identity(tf_example['x'], name='x')\n",
    "y_ = tf.placeholder('float', shape=[None, 10])\n",
    "w = tf.Variable(tf.zeros([784, 10]))\n",
    "b = tf.Variable(tf.zeros([10]))\n",
    "\n",
    "sess.run(tf.global_variables_initializer())"
   ]
  },
  {
   "cell_type": "code",
   "execution_count": 5,
   "metadata": {},
   "outputs": [],
   "source": [
    "######\n",
    "# XW + b = y\n",
    "#####\n",
    "y = tf.nn.softmax(tf.matmul(x, w) + b, name='y')\n",
    "cross_entropy = -tf.reduce_sum(y_ * tf.log(y))\n",
    "train_step = tf.train.GradientDescentOptimizer(0.01).minimize(cross_entropy)"
   ]
  },
  {
   "cell_type": "code",
   "execution_count": 6,
   "metadata": {},
   "outputs": [],
   "source": [
    "values, indices = tf.nn.top_k(y, 10)\n",
    "table = tf.contrib.lookup.index_to_string_table_from_tensor(tf.constant([str(i) for i in xrange(10)]))\n",
    "prediction_classes = table.lookup(tf.to_int64(indices))\n",
    "for _ in range(20000):\n",
    "    batch = mnist.train.next_batch(100)\n",
    "    train_step.run(feed_dict={x: batch[0], y_: batch[1]})"
   ]
  },
  {
   "cell_type": "code",
   "execution_count": 7,
   "metadata": {},
   "outputs": [
    {
     "name": "stdout",
     "output_type": "stream",
     "text": [
      "==================================\n",
      "training accuracy 0.9176\n",
      "==================================\n"
     ]
    }
   ],
   "source": [
    "correct_prediction = tf.equal(tf.argmax(y, 1), tf.argmax(y_, 1))\n",
    "accuracy = tf.reduce_mean(tf.cast(correct_prediction, 'float'))\n",
    "print \"==================================\"\n",
    "print 'training accuracy %g' % sess.run(accuracy, feed_dict={x: mnist.test.images, y_: mnist.test.labels})\n",
    "print \"==================================\"\n"
   ]
  },
  {
   "cell_type": "code",
   "execution_count": 8,
   "metadata": {},
   "outputs": [],
   "source": [
    "# Save the model"
   ]
  },
  {
   "cell_type": "code",
   "execution_count": 9,
   "metadata": {},
   "outputs": [
    {
     "name": "stdout",
     "output_type": "stream",
     "text": [
      "INFO:tensorflow:No assets to save.\n",
      "INFO:tensorflow:No assets to write.\n",
      "INFO:tensorflow:SavedModel written to: /tmp/regression/1/saved_model.pb\n"
     ]
    },
    {
     "data": {
      "text/plain": [
       "'/tmp/regression/1/saved_model.pb'"
      ]
     },
     "execution_count": 9,
     "metadata": {},
     "output_type": "execute_result"
    }
   ],
   "source": [
    "builder = tf.saved_model.builder.SavedModelBuilder(export_dir)\n",
    "\n",
    "classification_inputs = tf.saved_model.utils.build_tensor_info(serialized_tf_example)\n",
    "classification_outputs_classes = tf.saved_model.utils.build_tensor_info(prediction_classes)\n",
    "classification_outputs_scores = tf.saved_model.utils.build_tensor_info(values)\n",
    "\n",
    "classification_signature = (\n",
    "      tf.saved_model.signature_def_utils.build_signature_def(\n",
    "          inputs={ tf.saved_model.signature_constants.CLASSIFY_INPUTS:classification_inputs },\n",
    "          outputs={ tf.saved_model.signature_constants.CLASSIFY_OUTPUT_CLASSES: classification_outputs_classes,\n",
    "              tf.saved_model.signature_constants.CLASSIFY_OUTPUT_SCORES: classification_outputs_scores\n",
    "          },\n",
    "          method_name=tf.saved_model.signature_constants.CLASSIFY_METHOD_NAME))\n",
    "\n",
    "tensor_info_x = tf.saved_model.utils.build_tensor_info(x)\n",
    "tensor_info_y = tf.saved_model.utils.build_tensor_info(y)\n",
    "\n",
    "prediction_signature = (\n",
    "      tf.saved_model.signature_def_utils.build_signature_def(\n",
    "          inputs={'images': tensor_info_x},\n",
    "          outputs={'scores': tensor_info_y},\n",
    "          method_name=tf.saved_model.signature_constants.PREDICT_METHOD_NAME))\n",
    "\n",
    "legacy_init_op = tf.group(tf.tables_initializer(), name='legacy_init_op')\n",
    "builder.add_meta_graph_and_variables(\n",
    "      sess, [tf.saved_model.tag_constants.SERVING],\n",
    "      signature_def_map={ 'predict_images': prediction_signature,\n",
    "          tf.saved_model.signature_constants.DEFAULT_SERVING_SIGNATURE_DEF_KEY: classification_signature,\n",
    "      },\n",
    "      legacy_init_op=legacy_init_op)\n",
    "\n",
    "builder.save()"
   ]
  },
  {
   "cell_type": "code",
   "execution_count": null,
   "metadata": {
    "collapsed": true
   },
   "outputs": [],
   "source": []
  }
 ],
 "metadata": {
  "kernelspec": {
   "display_name": "Python 2",
   "language": "python",
   "name": "python2"
  },
  "language_info": {
   "codemirror_mode": {
    "name": "ipython",
    "version": 2
   },
   "file_extension": ".py",
   "mimetype": "text/x-python",
   "name": "python",
   "nbconvert_exporter": "python",
   "pygments_lexer": "ipython2",
   "version": "2.7.14"
  }
 },
 "nbformat": 4,
 "nbformat_minor": 2
}
